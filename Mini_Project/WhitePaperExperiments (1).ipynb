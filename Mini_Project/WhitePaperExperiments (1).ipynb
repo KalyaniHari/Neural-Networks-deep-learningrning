{
  "cells": [
    {
      "cell_type": "code",
      "execution_count": 1,
      "metadata": {
        "colab": {
          "base_uri": "https://localhost:8080/"
        },
        "id": "7Rb07oHxUSC-",
        "outputId": "d7968208-ac1d-421b-a832-e5e0f3ba4901"
      },
      "outputs": [
        {
          "name": "stdout",
          "output_type": "stream",
          "text": [
            "Cloning into 'concrete-ml'...\n",
            "remote: Enumerating objects: 57341, done.\u001b[K\n",
            "remote: Counting objects: 100% (930/930), done.\u001b[K\n",
            "remote: Compressing objects: 100% (370/370), done.\u001b[K\n",
            "remote: Total 57341 (delta 785), reused 560 (delta 560), pack-reused 56411 (from 5)\u001b[K\n",
            "Receiving objects: 100% (57341/57341), 669.42 MiB | 26.90 MiB/s, done.\n",
            "Resolving deltas: 100% (39779/39779), done.\n",
            "Filtering content: 100% (30/30), 180.92 MiB | 45.17 MiB/s, done.\n",
            "/content/concrete-ml/use_case_examples/white_paper_experiment\n"
          ]
        }
      ],
      "source": [
        "# Clone the repository\n",
        "!rm -rf concrete-ml\n",
        "!git clone https://github.com/zama-ai/concrete-ml.git\n",
        "%cd concrete-ml/use_case_examples/white_paper_experiment"
      ]
    },
    {
      "cell_type": "code",
      "execution_count": 2,
      "metadata": {
        "colab": {
          "base_uri": "https://localhost:8080/"
        },
        "id": "Bi3bK3WTURQP",
        "outputId": "a0893261-f739-41a8-9fbb-719a3f80e362"
      },
      "outputs": [
        {
          "name": "stdout",
          "output_type": "stream",
          "text": [
            "Requirement already satisfied: concrete-ml in /usr/local/lib/python3.11/dist-packages (from -r requirements.txt (line 1)) (1.9.0)\n",
            "Requirement already satisfied: jupyter in /usr/local/lib/python3.11/dist-packages (from -r requirements.txt (line 2)) (1.1.1)\n",
            "Requirement already satisfied: pandas in /usr/local/lib/python3.11/dist-packages (from -r requirements.txt (line 3)) (2.0.3)\n",
            "Requirement already satisfied: brevitas==0.10.2 in /usr/local/lib/python3.11/dist-packages (from concrete-ml->-r requirements.txt (line 1)) (0.10.2)\n",
            "Requirement already satisfied: concrete-ml-extensions==0.1.9 in /usr/local/lib/python3.11/dist-packages (from concrete-ml->-r requirements.txt (line 1)) (0.1.9)\n",
            "Requirement already satisfied: concrete-python==2.10.0 in /usr/local/lib/python3.11/dist-packages (from concrete-ml->-r requirements.txt (line 1)) (2.10.0)\n",
            "Requirement already satisfied: hummingbird-ml==0.4.11 in /usr/local/lib/python3.11/dist-packages (from hummingbird-ml[onnx]==0.4.11->concrete-ml->-r requirements.txt (line 1)) (0.4.11)\n",
            "Requirement already satisfied: numpy==1.26.4 in /usr/local/lib/python3.11/dist-packages (from concrete-ml->-r requirements.txt (line 1)) (1.26.4)\n",
            "Requirement already satisfied: onnx==1.17.0 in /usr/local/lib/python3.11/dist-packages (from concrete-ml->-r requirements.txt (line 1)) (1.17.0)\n",
            "Requirement already satisfied: onnxoptimizer==0.3.13 in /usr/local/lib/python3.11/dist-packages (from concrete-ml->-r requirements.txt (line 1)) (0.3.13)\n",
            "Requirement already satisfied: onnxruntime==1.18 in /usr/local/lib/python3.11/dist-packages (from concrete-ml->-r requirements.txt (line 1)) (1.18.0)\n",
            "Requirement already satisfied: protobuf<6.0.0,>=5.28.3 in /usr/local/lib/python3.11/dist-packages (from concrete-ml->-r requirements.txt (line 1)) (5.29.4)\n",
            "Requirement already satisfied: scikit-learn==1.5.0 in /usr/local/lib/python3.11/dist-packages (from concrete-ml->-r requirements.txt (line 1)) (1.5.0)\n",
            "Requirement already satisfied: scipy>=1.10.1 in /usr/local/lib/python3.11/dist-packages (from concrete-ml->-r requirements.txt (line 1)) (1.14.1)\n",
            "Requirement already satisfied: setuptools==75.3.0 in /usr/local/lib/python3.11/dist-packages (from concrete-ml->-r requirements.txt (line 1)) (75.3.0)\n",
            "Requirement already satisfied: skops==0.5.0 in /usr/local/lib/python3.11/dist-packages (from concrete-ml->-r requirements.txt (line 1)) (0.5.0)\n",
            "Requirement already satisfied: skorch==0.11.0 in /usr/local/lib/python3.11/dist-packages (from concrete-ml->-r requirements.txt (line 1)) (0.11.0)\n",
            "Collecting torch==2.3.1 (from concrete-ml->-r requirements.txt (line 1))\n",
            "  Using cached torch-2.3.1-cp311-cp311-manylinux1_x86_64.whl.metadata (26 kB)\n",
            "Requirement already satisfied: typing-extensions<5.0.0,>=4.5.0 in /usr/local/lib/python3.11/dist-packages (from concrete-ml->-r requirements.txt (line 1)) (4.13.1)\n",
            "Requirement already satisfied: xgboost==1.6.2 in /usr/local/lib/python3.11/dist-packages (from concrete-ml->-r requirements.txt (line 1)) (1.6.2)\n",
            "Requirement already satisfied: python-dateutil>=2.8.2 in /usr/local/lib/python3.11/dist-packages (from pandas->-r requirements.txt (line 3)) (2.8.2)\n",
            "Requirement already satisfied: pytz>=2020.1 in /usr/local/lib/python3.11/dist-packages (from pandas->-r requirements.txt (line 3)) (2025.2)\n",
            "Requirement already satisfied: tzdata>=2022.1 in /usr/local/lib/python3.11/dist-packages (from pandas->-r requirements.txt (line 3)) (2025.2)\n",
            "Requirement already satisfied: dependencies==2.0.1 in /usr/local/lib/python3.11/dist-packages (from brevitas==0.10.2->concrete-ml->-r requirements.txt (line 1)) (2.0.1)\n",
            "Requirement already satisfied: packaging in /usr/local/lib/python3.11/dist-packages (from brevitas==0.10.2->concrete-ml->-r requirements.txt (line 1)) (24.2)\n",
            "Requirement already satisfied: sympy in /usr/local/lib/python3.11/dist-packages (from brevitas==0.10.2->concrete-ml->-r requirements.txt (line 1)) (1.13.1)\n",
            "Requirement already satisfied: unfoldNd in /usr/local/lib/python3.11/dist-packages (from brevitas==0.10.2->concrete-ml->-r requirements.txt (line 1)) (0.2.3)\n",
            "Requirement already satisfied: importlib-resources>=6.1 in /usr/local/lib/python3.11/dist-packages (from concrete-python==2.10.0->concrete-ml->-r requirements.txt (line 1)) (6.5.2)\n",
            "Requirement already satisfied: jsonpickle>=3.0.3 in /usr/local/lib/python3.11/dist-packages (from concrete-python==2.10.0->concrete-ml->-r requirements.txt (line 1)) (4.0.5)\n",
            "Requirement already satisfied: networkx>=2.6 in /usr/local/lib/python3.11/dist-packages (from concrete-python==2.10.0->concrete-ml->-r requirements.txt (line 1)) (3.4.2)\n",
            "Requirement already satisfied: z3-solver==4.13.0 in /usr/local/lib/python3.11/dist-packages (from concrete-python==2.10.0->concrete-ml->-r requirements.txt (line 1)) (4.13.0.0)\n",
            "Requirement already satisfied: onnxconverter-common>=1.6.0 in /usr/local/lib/python3.11/dist-packages (from hummingbird-ml==0.4.11->hummingbird-ml[onnx]==0.4.11->concrete-ml->-r requirements.txt (line 1)) (1.13.0)\n",
            "Requirement already satisfied: psutil in /usr/local/lib/python3.11/dist-packages (from hummingbird-ml==0.4.11->hummingbird-ml[onnx]==0.4.11->concrete-ml->-r requirements.txt (line 1)) (5.9.5)\n",
            "Requirement already satisfied: dill in /usr/local/lib/python3.11/dist-packages (from hummingbird-ml==0.4.11->hummingbird-ml[onnx]==0.4.11->concrete-ml->-r requirements.txt (line 1)) (0.3.9)\n",
            "Requirement already satisfied: onnxmltools>=1.6.0 in /usr/local/lib/python3.11/dist-packages (from hummingbird-ml[onnx]==0.4.11->concrete-ml->-r requirements.txt (line 1)) (1.13.0)\n",
            "Requirement already satisfied: skl2onnx>=1.7.0 in /usr/local/lib/python3.11/dist-packages (from hummingbird-ml[onnx]==0.4.11->concrete-ml->-r requirements.txt (line 1)) (1.18.0)\n",
            "Requirement already satisfied: coloredlogs in /usr/local/lib/python3.11/dist-packages (from onnxruntime==1.18->concrete-ml->-r requirements.txt (line 1)) (15.0.1)\n",
            "Requirement already satisfied: flatbuffers in /usr/local/lib/python3.11/dist-packages (from onnxruntime==1.18->concrete-ml->-r requirements.txt (line 1)) (25.2.10)\n",
            "Requirement already satisfied: joblib>=1.2.0 in /usr/local/lib/python3.11/dist-packages (from scikit-learn==1.5.0->concrete-ml->-r requirements.txt (line 1)) (1.4.2)\n",
            "Requirement already satisfied: threadpoolctl>=3.1.0 in /usr/local/lib/python3.11/dist-packages (from scikit-learn==1.5.0->concrete-ml->-r requirements.txt (line 1)) (3.6.0)\n",
            "Requirement already satisfied: huggingface-hub>=0.10.1 in /usr/local/lib/python3.11/dist-packages (from skops==0.5.0->concrete-ml->-r requirements.txt (line 1)) (0.30.2)\n",
            "Requirement already satisfied: tabulate>=0.8.8 in /usr/local/lib/python3.11/dist-packages (from skops==0.5.0->concrete-ml->-r requirements.txt (line 1)) (0.9.0)\n",
            "Requirement already satisfied: tqdm>=4.14.0 in /usr/local/lib/python3.11/dist-packages (from skorch==0.11.0->concrete-ml->-r requirements.txt (line 1)) (4.67.1)\n",
            "Requirement already satisfied: filelock in /usr/local/lib/python3.11/dist-packages (from torch==2.3.1->concrete-ml->-r requirements.txt (line 1)) (3.18.0)\n",
            "Requirement already satisfied: jinja2 in /usr/local/lib/python3.11/dist-packages (from torch==2.3.1->concrete-ml->-r requirements.txt (line 1)) (3.1.6)\n",
            "Requirement already satisfied: fsspec in /usr/local/lib/python3.11/dist-packages (from torch==2.3.1->concrete-ml->-r requirements.txt (line 1)) (2025.3.2)\n",
            "Requirement already satisfied: nvidia-cuda-nvrtc-cu12==12.1.105 in /usr/local/lib/python3.11/dist-packages (from torch==2.3.1->concrete-ml->-r requirements.txt (line 1)) (12.1.105)\n",
            "Requirement already satisfied: nvidia-cuda-runtime-cu12==12.1.105 in /usr/local/lib/python3.11/dist-packages (from torch==2.3.1->concrete-ml->-r requirements.txt (line 1)) (12.1.105)\n",
            "Requirement already satisfied: nvidia-cuda-cupti-cu12==12.1.105 in /usr/local/lib/python3.11/dist-packages (from torch==2.3.1->concrete-ml->-r requirements.txt (line 1)) (12.1.105)\n",
            "Requirement already satisfied: nvidia-cudnn-cu12==8.9.2.26 in /usr/local/lib/python3.11/dist-packages (from torch==2.3.1->concrete-ml->-r requirements.txt (line 1)) (8.9.2.26)\n",
            "Requirement already satisfied: nvidia-cublas-cu12==12.1.3.1 in /usr/local/lib/python3.11/dist-packages (from torch==2.3.1->concrete-ml->-r requirements.txt (line 1)) (12.1.3.1)\n",
            "Requirement already satisfied: nvidia-cufft-cu12==11.0.2.54 in /usr/local/lib/python3.11/dist-packages (from torch==2.3.1->concrete-ml->-r requirements.txt (line 1)) (11.0.2.54)\n",
            "Requirement already satisfied: nvidia-curand-cu12==10.3.2.106 in /usr/local/lib/python3.11/dist-packages (from torch==2.3.1->concrete-ml->-r requirements.txt (line 1)) (10.3.2.106)\n",
            "Requirement already satisfied: nvidia-cusolver-cu12==11.4.5.107 in /usr/local/lib/python3.11/dist-packages (from torch==2.3.1->concrete-ml->-r requirements.txt (line 1)) (11.4.5.107)\n",
            "Requirement already satisfied: nvidia-cusparse-cu12==12.1.0.106 in /usr/local/lib/python3.11/dist-packages (from torch==2.3.1->concrete-ml->-r requirements.txt (line 1)) (12.1.0.106)\n",
            "Requirement already satisfied: nvidia-nccl-cu12==2.20.5 in /usr/local/lib/python3.11/dist-packages (from torch==2.3.1->concrete-ml->-r requirements.txt (line 1)) (2.20.5)\n",
            "Requirement already satisfied: nvidia-nvtx-cu12==12.1.105 in /usr/local/lib/python3.11/dist-packages (from torch==2.3.1->concrete-ml->-r requirements.txt (line 1)) (12.1.105)\n",
            "Collecting triton==2.3.1 (from torch==2.3.1->concrete-ml->-r requirements.txt (line 1))\n",
            "  Using cached triton-2.3.1-cp311-cp311-manylinux_2_17_x86_64.manylinux2014_x86_64.whl.metadata (1.4 kB)\n",
            "Requirement already satisfied: nvidia-nvjitlink-cu12 in /usr/local/lib/python3.11/dist-packages (from nvidia-cusolver-cu12==11.4.5.107->torch==2.3.1->concrete-ml->-r requirements.txt (line 1)) (12.5.82)\n",
            "Requirement already satisfied: notebook in /usr/local/lib/python3.11/dist-packages (from jupyter->-r requirements.txt (line 2)) (6.5.7)\n",
            "Requirement already satisfied: jupyter-console in /usr/local/lib/python3.11/dist-packages (from jupyter->-r requirements.txt (line 2)) (6.1.0)\n",
            "Requirement already satisfied: nbconvert in /usr/local/lib/python3.11/dist-packages (from jupyter->-r requirements.txt (line 2)) (7.16.6)\n",
            "Requirement already satisfied: ipykernel in /usr/local/lib/python3.11/dist-packages (from jupyter->-r requirements.txt (line 2)) (6.17.1)\n",
            "Requirement already satisfied: ipywidgets in /usr/local/lib/python3.11/dist-packages (from jupyter->-r requirements.txt (line 2)) (7.7.1)\n",
            "Requirement already satisfied: jupyterlab in /usr/local/lib/python3.11/dist-packages (from jupyter->-r requirements.txt (line 2)) (4.4.0)\n",
            "Requirement already satisfied: six>=1.5 in /usr/local/lib/python3.11/dist-packages (from python-dateutil>=2.8.2->pandas->-r requirements.txt (line 3)) (1.17.0)\n",
            "Requirement already satisfied: debugpy>=1.0 in /usr/local/lib/python3.11/dist-packages (from ipykernel->jupyter->-r requirements.txt (line 2)) (1.8.0)\n",
            "Requirement already satisfied: ipython>=7.23.1 in /usr/local/lib/python3.11/dist-packages (from ipykernel->jupyter->-r requirements.txt (line 2)) (7.34.0)\n",
            "Requirement already satisfied: jupyter-client>=6.1.12 in /usr/local/lib/python3.11/dist-packages (from ipykernel->jupyter->-r requirements.txt (line 2)) (7.4.9)\n",
            "Requirement already satisfied: matplotlib-inline>=0.1 in /usr/local/lib/python3.11/dist-packages (from ipykernel->jupyter->-r requirements.txt (line 2)) (0.1.7)\n",
            "Requirement already satisfied: nest-asyncio in /usr/local/lib/python3.11/dist-packages (from ipykernel->jupyter->-r requirements.txt (line 2)) (1.6.0)\n",
            "Requirement already satisfied: pyzmq>=17 in /usr/local/lib/python3.11/dist-packages (from ipykernel->jupyter->-r requirements.txt (line 2)) (24.0.1)\n",
            "Requirement already satisfied: tornado>=6.1 in /usr/local/lib/python3.11/dist-packages (from ipykernel->jupyter->-r requirements.txt (line 2)) (6.4.2)\n",
            "Requirement already satisfied: traitlets>=5.1.0 in /usr/local/lib/python3.11/dist-packages (from ipykernel->jupyter->-r requirements.txt (line 2)) (5.7.1)\n",
            "Requirement already satisfied: ipython-genutils~=0.2.0 in /usr/local/lib/python3.11/dist-packages (from ipywidgets->jupyter->-r requirements.txt (line 2)) (0.2.0)\n",
            "Requirement already satisfied: widgetsnbextension~=3.6.0 in /usr/local/lib/python3.11/dist-packages (from ipywidgets->jupyter->-r requirements.txt (line 2)) (3.6.10)\n",
            "Requirement already satisfied: jupyterlab-widgets>=1.0.0 in /usr/local/lib/python3.11/dist-packages (from ipywidgets->jupyter->-r requirements.txt (line 2)) (3.0.13)\n",
            "Requirement already satisfied: prompt-toolkit!=3.0.0,!=3.0.1,<3.1.0,>=2.0.0 in /usr/local/lib/python3.11/dist-packages (from jupyter-console->jupyter->-r requirements.txt (line 2)) (3.0.50)\n",
            "Requirement already satisfied: pygments in /usr/local/lib/python3.11/dist-packages (from jupyter-console->jupyter->-r requirements.txt (line 2)) (2.18.0)\n",
            "Requirement already satisfied: async-lru>=1.0.0 in /usr/local/lib/python3.11/dist-packages (from jupyterlab->jupyter->-r requirements.txt (line 2)) (2.0.5)\n",
            "Requirement already satisfied: httpx>=0.25.0 in /usr/local/lib/python3.11/dist-packages (from jupyterlab->jupyter->-r requirements.txt (line 2)) (0.28.1)\n",
            "Requirement already satisfied: jupyter-core in /usr/local/lib/python3.11/dist-packages (from jupyterlab->jupyter->-r requirements.txt (line 2)) (5.7.2)\n",
            "Requirement already satisfied: jupyter-lsp>=2.0.0 in /usr/local/lib/python3.11/dist-packages (from jupyterlab->jupyter->-r requirements.txt (line 2)) (2.2.5)\n",
            "Requirement already satisfied: jupyter-server<3,>=2.4.0 in /usr/local/lib/python3.11/dist-packages (from jupyterlab->jupyter->-r requirements.txt (line 2)) (2.15.0)\n",
            "Requirement already satisfied: jupyterlab-server<3,>=2.27.1 in /usr/local/lib/python3.11/dist-packages (from jupyterlab->jupyter->-r requirements.txt (line 2)) (2.27.3)\n",
            "Requirement already satisfied: notebook-shim>=0.2 in /usr/local/lib/python3.11/dist-packages (from jupyterlab->jupyter->-r requirements.txt (line 2)) (0.2.4)\n",
            "Requirement already satisfied: beautifulsoup4 in /usr/local/lib/python3.11/dist-packages (from nbconvert->jupyter->-r requirements.txt (line 2)) (4.13.3)\n",
            "Requirement already satisfied: bleach!=5.0.0 in /usr/local/lib/python3.11/dist-packages (from bleach[css]!=5.0.0->nbconvert->jupyter->-r requirements.txt (line 2)) (6.2.0)\n",
            "Requirement already satisfied: defusedxml in /usr/local/lib/python3.11/dist-packages (from nbconvert->jupyter->-r requirements.txt (line 2)) (0.7.1)\n",
            "Requirement already satisfied: jupyterlab-pygments in /usr/local/lib/python3.11/dist-packages (from nbconvert->jupyter->-r requirements.txt (line 2)) (0.3.0)\n",
            "Requirement already satisfied: markupsafe>=2.0 in /usr/local/lib/python3.11/dist-packages (from nbconvert->jupyter->-r requirements.txt (line 2)) (3.0.2)\n",
            "Requirement already satisfied: mistune<4,>=2.0.3 in /usr/local/lib/python3.11/dist-packages (from nbconvert->jupyter->-r requirements.txt (line 2)) (3.1.3)\n",
            "Requirement already satisfied: nbclient>=0.5.0 in /usr/local/lib/python3.11/dist-packages (from nbconvert->jupyter->-r requirements.txt (line 2)) (0.10.2)\n",
            "Requirement already satisfied: nbformat>=5.7 in /usr/local/lib/python3.11/dist-packages (from nbconvert->jupyter->-r requirements.txt (line 2)) (5.10.4)\n",
            "Requirement already satisfied: pandocfilters>=1.4.1 in /usr/local/lib/python3.11/dist-packages (from nbconvert->jupyter->-r requirements.txt (line 2)) (1.5.1)\n",
            "Requirement already satisfied: argon2-cffi in /usr/local/lib/python3.11/dist-packages (from notebook->jupyter->-r requirements.txt (line 2)) (23.1.0)\n",
            "Requirement already satisfied: Send2Trash>=1.8.0 in /usr/local/lib/python3.11/dist-packages (from notebook->jupyter->-r requirements.txt (line 2)) (1.8.3)\n",
            "Requirement already satisfied: terminado>=0.8.3 in /usr/local/lib/python3.11/dist-packages (from notebook->jupyter->-r requirements.txt (line 2)) (0.18.1)\n",
            "Requirement already satisfied: prometheus-client in /usr/local/lib/python3.11/dist-packages (from notebook->jupyter->-r requirements.txt (line 2)) (0.21.1)\n",
            "Requirement already satisfied: nbclassic>=0.4.7 in /usr/local/lib/python3.11/dist-packages (from notebook->jupyter->-r requirements.txt (line 2)) (1.2.0)\n",
            "Requirement already satisfied: webencodings in /usr/local/lib/python3.11/dist-packages (from bleach!=5.0.0->bleach[css]!=5.0.0->nbconvert->jupyter->-r requirements.txt (line 2)) (0.5.1)\n",
            "Requirement already satisfied: tinycss2<1.5,>=1.1.0 in /usr/local/lib/python3.11/dist-packages (from bleach[css]!=5.0.0->nbconvert->jupyter->-r requirements.txt (line 2)) (1.4.0)\n",
            "Requirement already satisfied: anyio in /usr/local/lib/python3.11/dist-packages (from httpx>=0.25.0->jupyterlab->jupyter->-r requirements.txt (line 2)) (4.9.0)\n",
            "Requirement already satisfied: certifi in /usr/local/lib/python3.11/dist-packages (from httpx>=0.25.0->jupyterlab->jupyter->-r requirements.txt (line 2)) (2025.1.31)\n",
            "Requirement already satisfied: httpcore==1.* in /usr/local/lib/python3.11/dist-packages (from httpx>=0.25.0->jupyterlab->jupyter->-r requirements.txt (line 2)) (1.0.7)\n",
            "Requirement already satisfied: idna in /usr/local/lib/python3.11/dist-packages (from httpx>=0.25.0->jupyterlab->jupyter->-r requirements.txt (line 2)) (3.10)\n",
            "Requirement already satisfied: h11<0.15,>=0.13 in /usr/local/lib/python3.11/dist-packages (from httpcore==1.*->httpx>=0.25.0->jupyterlab->jupyter->-r requirements.txt (line 2)) (0.14.0)\n",
            "Requirement already satisfied: pyyaml>=5.1 in /usr/local/lib/python3.11/dist-packages (from huggingface-hub>=0.10.1->skops==0.5.0->concrete-ml->-r requirements.txt (line 1)) (6.0.2)\n",
            "Requirement already satisfied: requests in /usr/local/lib/python3.11/dist-packages (from huggingface-hub>=0.10.1->skops==0.5.0->concrete-ml->-r requirements.txt (line 1)) (2.32.3)\n",
            "Requirement already satisfied: jedi>=0.16 in /usr/local/lib/python3.11/dist-packages (from ipython>=7.23.1->ipykernel->jupyter->-r requirements.txt (line 2)) (0.19.2)\n",
            "Requirement already satisfied: decorator in /usr/local/lib/python3.11/dist-packages (from ipython>=7.23.1->ipykernel->jupyter->-r requirements.txt (line 2)) (4.4.2)\n",
            "Requirement already satisfied: pickleshare in /usr/local/lib/python3.11/dist-packages (from ipython>=7.23.1->ipykernel->jupyter->-r requirements.txt (line 2)) (0.7.5)\n",
            "Requirement already satisfied: backcall in /usr/local/lib/python3.11/dist-packages (from ipython>=7.23.1->ipykernel->jupyter->-r requirements.txt (line 2)) (0.2.0)\n",
            "Requirement already satisfied: pexpect>4.3 in /usr/local/lib/python3.11/dist-packages (from ipython>=7.23.1->ipykernel->jupyter->-r requirements.txt (line 2)) (4.9.0)\n",
            "Requirement already satisfied: entrypoints in /usr/local/lib/python3.11/dist-packages (from jupyter-client>=6.1.12->ipykernel->jupyter->-r requirements.txt (line 2)) (0.4)\n",
            "Requirement already satisfied: platformdirs>=2.5 in /usr/local/lib/python3.11/dist-packages (from jupyter-core->jupyterlab->jupyter->-r requirements.txt (line 2)) (4.3.7)\n",
            "Requirement already satisfied: jupyter-events>=0.11.0 in /usr/local/lib/python3.11/dist-packages (from jupyter-server<3,>=2.4.0->jupyterlab->jupyter->-r requirements.txt (line 2)) (0.12.0)\n",
            "Requirement already satisfied: jupyter-server-terminals>=0.4.4 in /usr/local/lib/python3.11/dist-packages (from jupyter-server<3,>=2.4.0->jupyterlab->jupyter->-r requirements.txt (line 2)) (0.5.3)\n",
            "Requirement already satisfied: overrides>=5.0 in /usr/local/lib/python3.11/dist-packages (from jupyter-server<3,>=2.4.0->jupyterlab->jupyter->-r requirements.txt (line 2)) (7.7.0)\n",
            "Requirement already satisfied: websocket-client>=1.7 in /usr/local/lib/python3.11/dist-packages (from jupyter-server<3,>=2.4.0->jupyterlab->jupyter->-r requirements.txt (line 2)) (1.8.0)\n",
            "Requirement already satisfied: argon2-cffi-bindings in /usr/local/lib/python3.11/dist-packages (from argon2-cffi->notebook->jupyter->-r requirements.txt (line 2)) (21.2.0)\n",
            "Requirement already satisfied: babel>=2.10 in /usr/local/lib/python3.11/dist-packages (from jupyterlab-server<3,>=2.27.1->jupyterlab->jupyter->-r requirements.txt (line 2)) (2.17.0)\n",
            "Requirement already satisfied: json5>=0.9.0 in /usr/local/lib/python3.11/dist-packages (from jupyterlab-server<3,>=2.27.1->jupyterlab->jupyter->-r requirements.txt (line 2)) (0.12.0)\n",
            "Requirement already satisfied: jsonschema>=4.18.0 in /usr/local/lib/python3.11/dist-packages (from jupyterlab-server<3,>=2.27.1->jupyterlab->jupyter->-r requirements.txt (line 2)) (4.23.0)\n",
            "Requirement already satisfied: fastjsonschema>=2.15 in /usr/local/lib/python3.11/dist-packages (from nbformat>=5.7->nbconvert->jupyter->-r requirements.txt (line 2)) (2.21.1)\n",
            "Requirement already satisfied: wcwidth in /usr/local/lib/python3.11/dist-packages (from prompt-toolkit!=3.0.0,!=3.0.1,<3.1.0,>=2.0.0->jupyter-console->jupyter->-r requirements.txt (line 2)) (0.2.13)\n",
            "Requirement already satisfied: ptyprocess in /usr/local/lib/python3.11/dist-packages (from terminado>=0.8.3->notebook->jupyter->-r requirements.txt (line 2)) (0.7.0)\n",
            "Requirement already satisfied: soupsieve>1.2 in /usr/local/lib/python3.11/dist-packages (from beautifulsoup4->nbconvert->jupyter->-r requirements.txt (line 2)) (2.6)\n",
            "Requirement already satisfied: humanfriendly>=9.1 in /usr/local/lib/python3.11/dist-packages (from coloredlogs->onnxruntime==1.18->concrete-ml->-r requirements.txt (line 1)) (10.0)\n",
            "Requirement already satisfied: mpmath<1.4,>=1.1.0 in /usr/local/lib/python3.11/dist-packages (from sympy->brevitas==0.10.2->concrete-ml->-r requirements.txt (line 1)) (1.3.0)\n",
            "Requirement already satisfied: sniffio>=1.1 in /usr/local/lib/python3.11/dist-packages (from anyio->httpx>=0.25.0->jupyterlab->jupyter->-r requirements.txt (line 2)) (1.3.1)\n",
            "Requirement already satisfied: parso<0.9.0,>=0.8.4 in /usr/local/lib/python3.11/dist-packages (from jedi>=0.16->ipython>=7.23.1->ipykernel->jupyter->-r requirements.txt (line 2)) (0.8.4)\n",
            "Requirement already satisfied: attrs>=22.2.0 in /usr/local/lib/python3.11/dist-packages (from jsonschema>=4.18.0->jupyterlab-server<3,>=2.27.1->jupyterlab->jupyter->-r requirements.txt (line 2)) (25.3.0)\n",
            "Requirement already satisfied: jsonschema-specifications>=2023.03.6 in /usr/local/lib/python3.11/dist-packages (from jsonschema>=4.18.0->jupyterlab-server<3,>=2.27.1->jupyterlab->jupyter->-r requirements.txt (line 2)) (2024.10.1)\n",
            "Requirement already satisfied: referencing>=0.28.4 in /usr/local/lib/python3.11/dist-packages (from jsonschema>=4.18.0->jupyterlab-server<3,>=2.27.1->jupyterlab->jupyter->-r requirements.txt (line 2)) (0.36.2)\n",
            "Requirement already satisfied: rpds-py>=0.7.1 in /usr/local/lib/python3.11/dist-packages (from jsonschema>=4.18.0->jupyterlab-server<3,>=2.27.1->jupyterlab->jupyter->-r requirements.txt (line 2)) (0.24.0)\n",
            "Requirement already satisfied: python-json-logger>=2.0.4 in /usr/local/lib/python3.11/dist-packages (from jupyter-events>=0.11.0->jupyter-server<3,>=2.4.0->jupyterlab->jupyter->-r requirements.txt (line 2)) (3.3.0)\n",
            "Requirement already satisfied: rfc3339-validator in /usr/local/lib/python3.11/dist-packages (from jupyter-events>=0.11.0->jupyter-server<3,>=2.4.0->jupyterlab->jupyter->-r requirements.txt (line 2)) (0.1.4)\n",
            "Requirement already satisfied: rfc3986-validator>=0.1.1 in /usr/local/lib/python3.11/dist-packages (from jupyter-events>=0.11.0->jupyter-server<3,>=2.4.0->jupyterlab->jupyter->-r requirements.txt (line 2)) (0.1.1)\n",
            "Requirement already satisfied: charset-normalizer<4,>=2 in /usr/local/lib/python3.11/dist-packages (from requests->huggingface-hub>=0.10.1->skops==0.5.0->concrete-ml->-r requirements.txt (line 1)) (3.4.1)\n",
            "Requirement already satisfied: urllib3<3,>=1.21.1 in /usr/local/lib/python3.11/dist-packages (from requests->huggingface-hub>=0.10.1->skops==0.5.0->concrete-ml->-r requirements.txt (line 1)) (2.3.0)\n",
            "Requirement already satisfied: cffi>=1.0.1 in /usr/local/lib/python3.11/dist-packages (from argon2-cffi-bindings->argon2-cffi->notebook->jupyter->-r requirements.txt (line 2)) (1.17.1)\n",
            "Requirement already satisfied: pycparser in /usr/local/lib/python3.11/dist-packages (from cffi>=1.0.1->argon2-cffi-bindings->argon2-cffi->notebook->jupyter->-r requirements.txt (line 2)) (2.22)\n",
            "Requirement already satisfied: fqdn in /usr/local/lib/python3.11/dist-packages (from jsonschema[format-nongpl]>=4.18.0->jupyter-events>=0.11.0->jupyter-server<3,>=2.4.0->jupyterlab->jupyter->-r requirements.txt (line 2)) (1.5.1)\n",
            "Requirement already satisfied: isoduration in /usr/local/lib/python3.11/dist-packages (from jsonschema[format-nongpl]>=4.18.0->jupyter-events>=0.11.0->jupyter-server<3,>=2.4.0->jupyterlab->jupyter->-r requirements.txt (line 2)) (20.11.0)\n",
            "Requirement already satisfied: jsonpointer>1.13 in /usr/local/lib/python3.11/dist-packages (from jsonschema[format-nongpl]>=4.18.0->jupyter-events>=0.11.0->jupyter-server<3,>=2.4.0->jupyterlab->jupyter->-r requirements.txt (line 2)) (3.0.0)\n",
            "Requirement already satisfied: uri-template in /usr/local/lib/python3.11/dist-packages (from jsonschema[format-nongpl]>=4.18.0->jupyter-events>=0.11.0->jupyter-server<3,>=2.4.0->jupyterlab->jupyter->-r requirements.txt (line 2)) (1.3.0)\n",
            "Requirement already satisfied: webcolors>=24.6.0 in /usr/local/lib/python3.11/dist-packages (from jsonschema[format-nongpl]>=4.18.0->jupyter-events>=0.11.0->jupyter-server<3,>=2.4.0->jupyterlab->jupyter->-r requirements.txt (line 2)) (24.11.1)\n",
            "Requirement already satisfied: arrow>=0.15.0 in /usr/local/lib/python3.11/dist-packages (from isoduration->jsonschema[format-nongpl]>=4.18.0->jupyter-events>=0.11.0->jupyter-server<3,>=2.4.0->jupyterlab->jupyter->-r requirements.txt (line 2)) (1.3.0)\n",
            "Requirement already satisfied: types-python-dateutil>=2.8.10 in /usr/local/lib/python3.11/dist-packages (from arrow>=0.15.0->isoduration->jsonschema[format-nongpl]>=4.18.0->jupyter-events>=0.11.0->jupyter-server<3,>=2.4.0->jupyterlab->jupyter->-r requirements.txt (line 2)) (2.9.0.20241206)\n",
            "Using cached torch-2.3.1-cp311-cp311-manylinux1_x86_64.whl (779.2 MB)\n",
            "Using cached triton-2.3.1-cp311-cp311-manylinux_2_17_x86_64.manylinux2014_x86_64.whl (168.1 MB)\n",
            "Installing collected packages: triton, torch\n",
            "  Attempting uninstall: triton\n",
            "    Found existing installation: triton 2.0.0\n",
            "    Uninstalling triton-2.0.0:\n",
            "      Successfully uninstalled triton-2.0.0\n",
            "  Attempting uninstall: torch\n",
            "    Found existing installation: torch 2.0.1\n",
            "    Uninstalling torch-2.0.1:\n",
            "      Successfully uninstalled torch-2.0.1\n",
            "\u001b[31mERROR: pip's dependency resolver does not currently take into account all the packages that are installed. This behaviour is the source of the following dependency conflicts.\n",
            "torchvision 0.15.2 requires torch==2.0.1, but you have torch 2.3.1 which is incompatible.\n",
            "torchaudio 2.6.0+cu124 requires torch==2.6.0, but you have torch 2.3.1 which is incompatible.\u001b[0m\u001b[31m\n",
            "\u001b[0mSuccessfully installed torch-2.3.1 triton-2.3.1\n"
          ]
        }
      ],
      "source": [
        "# Install dependencies (torch 2.3.1 gets installed here)\n",
        "!pip install -r requirements.txt\n"
      ]
    },
    {
      "cell_type": "code",
      "execution_count": 3,
      "metadata": {
        "colab": {
          "base_uri": "https://localhost:8080/"
        },
        "id": "RDcws59mjdcn",
        "outputId": "38c3800f-3c8d-4549-e18f-ef88ff9e7f49"
      },
      "outputs": [
        {
          "name": "stdout",
          "output_type": "stream",
          "text": [
            "Cloning into 'concrete-ml'...\n",
            "remote: Enumerating objects: 57341, done.\u001b[K\n",
            "remote: Counting objects: 100% (969/969), done.\u001b[K\n",
            "remote: Compressing objects: 100% (377/377), done.\u001b[K\n",
            "remote: Total 57341 (delta 822), reused 592 (delta 592), pack-reused 56372 (from 5)\u001b[K\n",
            "Receiving objects: 100% (57341/57341), 668.71 MiB | 31.12 MiB/s, done.\n",
            "Resolving deltas: 100% (39771/39771), done.\n",
            "Filtering content: 100% (30/30), 180.92 MiB | 60.70 MiB/s, done.\n",
            "/content/concrete-ml/use_case_examples/white_paper_experiment/concrete-ml/use_case_examples/white_paper_experiment\n",
            "Requirement already satisfied: torchvision==0.15.2 in /usr/local/lib/python3.11/dist-packages (0.15.2)\n",
            "Requirement already satisfied: numpy in /usr/local/lib/python3.11/dist-packages (from torchvision==0.15.2) (1.26.4)\n",
            "Requirement already satisfied: requests in /usr/local/lib/python3.11/dist-packages (from torchvision==0.15.2) (2.32.3)\n",
            "Collecting torch==2.0.1 (from torchvision==0.15.2)\n",
            "  Using cached torch-2.0.1-cp311-cp311-manylinux1_x86_64.whl.metadata (24 kB)\n",
            "Requirement already satisfied: pillow!=8.3.*,>=5.3.0 in /usr/local/lib/python3.11/dist-packages (from torchvision==0.15.2) (11.1.0)\n",
            "Requirement already satisfied: filelock in /usr/local/lib/python3.11/dist-packages (from torch==2.0.1->torchvision==0.15.2) (3.18.0)\n",
            "Requirement already satisfied: typing-extensions in /usr/local/lib/python3.11/dist-packages (from torch==2.0.1->torchvision==0.15.2) (4.13.1)\n",
            "Requirement already satisfied: sympy in /usr/local/lib/python3.11/dist-packages (from torch==2.0.1->torchvision==0.15.2) (1.13.1)\n",
            "Requirement already satisfied: networkx in /usr/local/lib/python3.11/dist-packages (from torch==2.0.1->torchvision==0.15.2) (3.4.2)\n",
            "Requirement already satisfied: jinja2 in /usr/local/lib/python3.11/dist-packages (from torch==2.0.1->torchvision==0.15.2) (3.1.6)\n",
            "Requirement already satisfied: nvidia-cuda-nvrtc-cu11==11.7.99 in /usr/local/lib/python3.11/dist-packages (from torch==2.0.1->torchvision==0.15.2) (11.7.99)\n",
            "Requirement already satisfied: nvidia-cuda-runtime-cu11==11.7.99 in /usr/local/lib/python3.11/dist-packages (from torch==2.0.1->torchvision==0.15.2) (11.7.99)\n",
            "Requirement already satisfied: nvidia-cuda-cupti-cu11==11.7.101 in /usr/local/lib/python3.11/dist-packages (from torch==2.0.1->torchvision==0.15.2) (11.7.101)\n",
            "Requirement already satisfied: nvidia-cudnn-cu11==8.5.0.96 in /usr/local/lib/python3.11/dist-packages (from torch==2.0.1->torchvision==0.15.2) (8.5.0.96)\n",
            "Requirement already satisfied: nvidia-cublas-cu11==11.10.3.66 in /usr/local/lib/python3.11/dist-packages (from torch==2.0.1->torchvision==0.15.2) (11.10.3.66)\n",
            "Requirement already satisfied: nvidia-cufft-cu11==10.9.0.58 in /usr/local/lib/python3.11/dist-packages (from torch==2.0.1->torchvision==0.15.2) (10.9.0.58)\n",
            "Requirement already satisfied: nvidia-curand-cu11==10.2.10.91 in /usr/local/lib/python3.11/dist-packages (from torch==2.0.1->torchvision==0.15.2) (10.2.10.91)\n",
            "Requirement already satisfied: nvidia-cusolver-cu11==11.4.0.1 in /usr/local/lib/python3.11/dist-packages (from torch==2.0.1->torchvision==0.15.2) (11.4.0.1)\n",
            "Requirement already satisfied: nvidia-cusparse-cu11==11.7.4.91 in /usr/local/lib/python3.11/dist-packages (from torch==2.0.1->torchvision==0.15.2) (11.7.4.91)\n",
            "Requirement already satisfied: nvidia-nccl-cu11==2.14.3 in /usr/local/lib/python3.11/dist-packages (from torch==2.0.1->torchvision==0.15.2) (2.14.3)\n",
            "Requirement already satisfied: nvidia-nvtx-cu11==11.7.91 in /usr/local/lib/python3.11/dist-packages (from torch==2.0.1->torchvision==0.15.2) (11.7.91)\n",
            "Collecting triton==2.0.0 (from torch==2.0.1->torchvision==0.15.2)\n",
            "  Using cached triton-2.0.0-1-cp311-cp311-manylinux2014_x86_64.manylinux_2_17_x86_64.whl.metadata (1.0 kB)\n",
            "Requirement already satisfied: setuptools in /usr/local/lib/python3.11/dist-packages (from nvidia-cublas-cu11==11.10.3.66->torch==2.0.1->torchvision==0.15.2) (75.3.0)\n",
            "Requirement already satisfied: wheel in /usr/local/lib/python3.11/dist-packages (from nvidia-cublas-cu11==11.10.3.66->torch==2.0.1->torchvision==0.15.2) (0.45.1)\n",
            "Requirement already satisfied: cmake in /usr/local/lib/python3.11/dist-packages (from triton==2.0.0->torch==2.0.1->torchvision==0.15.2) (3.31.6)\n",
            "Requirement already satisfied: lit in /usr/local/lib/python3.11/dist-packages (from triton==2.0.0->torch==2.0.1->torchvision==0.15.2) (18.1.8)\n",
            "Requirement already satisfied: charset-normalizer<4,>=2 in /usr/local/lib/python3.11/dist-packages (from requests->torchvision==0.15.2) (3.4.1)\n",
            "Requirement already satisfied: idna<4,>=2.5 in /usr/local/lib/python3.11/dist-packages (from requests->torchvision==0.15.2) (3.10)\n",
            "Requirement already satisfied: urllib3<3,>=1.21.1 in /usr/local/lib/python3.11/dist-packages (from requests->torchvision==0.15.2) (2.3.0)\n",
            "Requirement already satisfied: certifi>=2017.4.17 in /usr/local/lib/python3.11/dist-packages (from requests->torchvision==0.15.2) (2025.1.31)\n",
            "Requirement already satisfied: MarkupSafe>=2.0 in /usr/local/lib/python3.11/dist-packages (from jinja2->torch==2.0.1->torchvision==0.15.2) (3.0.2)\n",
            "Requirement already satisfied: mpmath<1.4,>=1.1.0 in /usr/local/lib/python3.11/dist-packages (from sympy->torch==2.0.1->torchvision==0.15.2) (1.3.0)\n",
            "Using cached torch-2.0.1-cp311-cp311-manylinux1_x86_64.whl (619.9 MB)\n",
            "Using cached triton-2.0.0-1-cp311-cp311-manylinux2014_x86_64.manylinux_2_17_x86_64.whl (63.3 MB)\n",
            "Installing collected packages: triton, torch\n",
            "  Attempting uninstall: triton\n",
            "    Found existing installation: triton 2.3.1\n",
            "    Uninstalling triton-2.3.1:\n",
            "      Successfully uninstalled triton-2.3.1\n",
            "  Attempting uninstall: torch\n",
            "    Found existing installation: torch 2.3.1\n",
            "    Uninstalling torch-2.3.1:\n",
            "      Successfully uninstalled torch-2.3.1\n",
            "\u001b[31mERROR: pip's dependency resolver does not currently take into account all the packages that are installed. This behaviour is the source of the following dependency conflicts.\n",
            "concrete-ml 1.9.0 requires torch==2.3.1; platform_system != \"Darwin\" or platform_machine == \"arm64\", but you have torch 2.0.1 which is incompatible.\n",
            "torchaudio 2.6.0+cu124 requires torch==2.6.0, but you have torch 2.0.1 which is incompatible.\u001b[0m\u001b[31m\n",
            "\u001b[0mSuccessfully installed torch-2.0.1 triton-2.0.0\n"
          ]
        }
      ],
      "source": [
        "# Re-clone and move to project directory (do this after restart!)\n",
        "!rm -rf concrete-ml\n",
        "!git clone https://github.com/zama-ai/concrete-ml.git\n",
        "%cd concrete-ml/use_case_examples/white_paper_experiment\n",
        "\n",
        "# Reinstall torchvision compatible with torch 2.3.1\n",
        "!pip install torchvision==0.15.2\n"
      ]
    },
    {
      "cell_type": "markdown",
      "metadata": {
        "id": "pK1fO5jUUNnW"
      },
      "source": [
        "# Deep MNIST classifiers\n",
        "\n",
        "## Reproducing the results from **Programmable Bootstrapping Enables Efficient Homomorphic Inference of Deep Neural Networks**\n",
        "\n",
        "This notebook replicates experiments from the paper [_Programmable Bootstrapping Enables Efficient Homomorphic Inference of Deep Neural Networks_](https://whitepaper.zama.ai/), published in 2021. This previous work did not use the Concrete compiler.\n",
        "This notebook reproduces the deep neural network architectures NN-20 and NN-50 from the whitepaper and shows how they are [quantized](https://docs.zama.ai/concrete-ml/explanations/quantization) using Post Training Quantization (PTQ) and compiled with Concrete to work on encrypted data.\n",
        "\n",
        "We compare the original paper's findings with the results from the latest version of [Concrete ML](https://pypi.org/project/concrete-ml/).\n",
        "\n",
        "The results shown at the end of this notebook show a large speed-up with respect to the results in the whitepaper."
      ]
    },
    {
      "cell_type": "code",
      "execution_count": 4,
      "metadata": {
        "colab": {
          "base_uri": "https://localhost:8080/"
        },
        "id": "HdqArIi7UNnZ",
        "outputId": "aa06bc1a-dd56-4f35-9084-602fdab55360"
      },
      "outputs": [
        {
          "name": "stderr",
          "output_type": "stream",
          "text": [
            "No CUDA runtime is found, using CUDA_HOME='/usr/local/cuda'\n"
          ]
        }
      ],
      "source": [
        "import os\n",
        "import random\n",
        "import time\n",
        "import warnings\n",
        "\n",
        "import numpy as np\n",
        "import torch\n",
        "from torchvision import datasets, transforms\n",
        "from utils_experiments import MEAN, STD, format_results_df, plot_dataset, torch_inference\n",
        "\n",
        "from concrete.ml.torch.compile import compile_torch_model\n",
        "\n",
        "warnings.filterwarnings(\"ignore\", category=UserWarning)"
      ]
    },
    {
      "cell_type": "markdown",
      "metadata": {
        "id": "WKUeBnGTUNnb"
      },
      "source": [
        "## Architecture\n",
        "\n",
        "All networks begin with a convolutional layer configured with `in_channel=1, out_channels=1, kernel_size=3, stride=1, padding_mode='replicate'`.\n",
        "\n",
        "This is followed by 20 linear layers of 92 neurones with ReLU activation for NN-20, and 50 layers for NN-50."
      ]
    },
    {
      "cell_type": "code",
      "execution_count": 5,
      "metadata": {
        "id": "tRYW8SJRUNnb"
      },
      "outputs": [],
      "source": [
        "DEVICE = \"cpu\"\n",
        "\n",
        "# Input size, 28x28 pixels, a standard size for MNIST images\n",
        "INPUT_IMG_SIZE = 28\n",
        "\n",
        "# Batch size\n",
        "BATCH_SIZE = 64\n",
        "\n",
        "# Seed to ensure reproducibility\n",
        "SEED = 42\n",
        "\n",
        "# Whether the experiments are run on PC or other machines, like HP7C on AWS\n",
        "MACHINE = f\"{os.cpu_count()}-core machine\"\n",
        "\n",
        "# The timing and the accuracy recorded in the article\n",
        "if os.cpu_count() > 48:\n",
        "    PAPER_NOTES = {20: [21.17, 0.971], 50: [43.91, 0.947]}\n",
        "else:\n",
        "    PAPER_NOTES = {20: [115.52, 0.971], 50: [233.55, 0.947]}"
      ]
    },
    {
      "cell_type": "markdown",
      "metadata": {
        "id": "FsUzsTxgUNnc"
      },
      "source": [
        "## FP32 MNIST Neural Nerwork"
      ]
    },
    {
      "cell_type": "code",
      "execution_count": 6,
      "metadata": {
        "id": "W8F1ZHCkUNnc"
      },
      "outputs": [],
      "source": [
        "FEATURES_MAPS = [\n",
        "    # Convolution layer, with:\n",
        "    # in_channel=1, out_channels=1, kernel_size=3, stride=1, padding_mode='replicate'\n",
        "    (\"C\", 1, 1, 3, 1, \"replicate\"),\n",
        "    (\"R\",),\n",
        "    (\"B\", 1, 30),  # 2d batch-norm for 1 channel\n",
        "]\n",
        "\n",
        "\n",
        "# The article presents 3 neural network depths. In this notebook, we focus NN-20 and NN-50\n",
        "# architectures. The parameter `nb_layers`: controls the depth of the NN.\n",
        "def LINEAR_LAYERS(nb_layers: int, output_size: int):\n",
        "    return (  # noqa: W503\n",
        "        [\n",
        "            (\"L\", INPUT_IMG_SIZE * INPUT_IMG_SIZE, 92),\n",
        "            (\"R\",),\n",
        "            (\"B\", 92),  # 1d batch norm\n",
        "        ]  # noqa: W503\n",
        "        + [  # noqa: W503\n",
        "            (\"L\", 92, 92),\n",
        "            (\"R\",),\n",
        "            (\"B\", 92),  # 1d batch norm\n",
        "        ]\n",
        "        * (nb_layers - 3)  # noqa: W503\n",
        "        + [(\"L\", 92, output_size)]  # noqa: W503\n",
        "    )\n",
        "\n",
        "\n",
        "class Fp32MNIST(torch.nn.Module):\n",
        "    \"\"\"MNIST Torch model.\"\"\"\n",
        "\n",
        "    def __init__(self, nb_layers: int, output_size: int = 10):\n",
        "        \"\"\"MNIST Torch model.\n",
        "\n",
        "        Args:\n",
        "            nb_layers (int): Number of layers.\n",
        "            output_size (int): Number of classes.\n",
        "        \"\"\"\n",
        "        super().__init__()\n",
        "\n",
        "        self.nb_layers = nb_layers\n",
        "        self.output_size = output_size\n",
        "\n",
        "        def make_layers(t):\n",
        "            if t[0] == \"C\":\n",
        "                # Workaround: stride=1, padding_mode='replicate' is replaced by\n",
        "                # transforms.Pad(1, padding_mode=\"edge\")\n",
        "                return torch.nn.Conv2d(\n",
        "                    in_channels=t[1],\n",
        "                    out_channels=t[2],\n",
        "                    kernel_size=t[3],\n",
        "                )\n",
        "            if t[0] == \"L\":\n",
        "                return torch.nn.Linear(in_features=t[1], out_features=t[2])\n",
        "            if t[0] == \"R\":\n",
        "                return torch.nn.ReLU()\n",
        "            if t[0] == \"B\":\n",
        "                if len(t) == 2:\n",
        "                    return torch.nn.BatchNorm1d(t[1])\n",
        "                if len(t) == 3:\n",
        "                    return torch.nn.BatchNorm2d(t[1])\n",
        "\n",
        "            raise NameError(f\"'{t}' not defined\")\n",
        "\n",
        "        self.features_maps = torch.nn.Sequential(*[make_layers(t) for t in FEATURES_MAPS])\n",
        "        self.linears = torch.nn.Sequential(\n",
        "            *[make_layers(t) for t in LINEAR_LAYERS(self.nb_layers, self.output_size)]\n",
        "        )\n",
        "\n",
        "    def forward(self, x):\n",
        "        x = self.features_maps(x)\n",
        "        x = torch.nn.Flatten()(x)\n",
        "        x = self.linears(x)\n",
        "        return x"
      ]
    },
    {
      "cell_type": "markdown",
      "metadata": {
        "id": "nJiMYGskUNnd"
      },
      "source": [
        "## Load and pre-process the MNIST data-set\n"
      ]
    },
    {
      "cell_type": "code",
      "execution_count": 7,
      "metadata": {
        "colab": {
          "base_uri": "https://localhost:8080/",
          "height": 782
        },
        "id": "ljsGyTq7UNnd",
        "outputId": "62f44b90-c133-47a4-ca59-4bdce9a104a3"
      },
      "outputs": [
        {
          "name": "stdout",
          "output_type": "stream",
          "text": [
            "Downloading http://yann.lecun.com/exdb/mnist/train-images-idx3-ubyte.gz\n",
            "Failed to download (trying next):\n",
            "HTTP Error 404: Not Found\n",
            "\n",
            "Downloading https://ossci-datasets.s3.amazonaws.com/mnist/train-images-idx3-ubyte.gz\n",
            "Downloading https://ossci-datasets.s3.amazonaws.com/mnist/train-images-idx3-ubyte.gz to ./data/MNIST/raw/train-images-idx3-ubyte.gz\n"
          ]
        },
        {
          "name": "stderr",
          "output_type": "stream",
          "text": [
            "100%|██████████| 9912422/9912422 [00:00<00:00, 20367381.22it/s]\n"
          ]
        },
        {
          "name": "stdout",
          "output_type": "stream",
          "text": [
            "Extracting ./data/MNIST/raw/train-images-idx3-ubyte.gz to ./data/MNIST/raw\n",
            "\n",
            "Downloading http://yann.lecun.com/exdb/mnist/train-labels-idx1-ubyte.gz\n",
            "Failed to download (trying next):\n",
            "HTTP Error 404: Not Found\n",
            "\n",
            "Downloading https://ossci-datasets.s3.amazonaws.com/mnist/train-labels-idx1-ubyte.gz\n",
            "Downloading https://ossci-datasets.s3.amazonaws.com/mnist/train-labels-idx1-ubyte.gz to ./data/MNIST/raw/train-labels-idx1-ubyte.gz\n"
          ]
        },
        {
          "name": "stderr",
          "output_type": "stream",
          "text": [
            "100%|██████████| 28881/28881 [00:00<00:00, 615943.16it/s]\n"
          ]
        },
        {
          "name": "stdout",
          "output_type": "stream",
          "text": [
            "Extracting ./data/MNIST/raw/train-labels-idx1-ubyte.gz to ./data/MNIST/raw\n",
            "\n",
            "Downloading http://yann.lecun.com/exdb/mnist/t10k-images-idx3-ubyte.gz\n",
            "Failed to download (trying next):\n",
            "HTTP Error 404: Not Found\n",
            "\n",
            "Downloading https://ossci-datasets.s3.amazonaws.com/mnist/t10k-images-idx3-ubyte.gz\n",
            "Downloading https://ossci-datasets.s3.amazonaws.com/mnist/t10k-images-idx3-ubyte.gz to ./data/MNIST/raw/t10k-images-idx3-ubyte.gz\n"
          ]
        },
        {
          "name": "stderr",
          "output_type": "stream",
          "text": [
            "100%|██████████| 1648877/1648877 [00:00<00:00, 5630457.87it/s]\n"
          ]
        },
        {
          "name": "stdout",
          "output_type": "stream",
          "text": [
            "Extracting ./data/MNIST/raw/t10k-images-idx3-ubyte.gz to ./data/MNIST/raw\n",
            "\n",
            "Downloading http://yann.lecun.com/exdb/mnist/t10k-labels-idx1-ubyte.gz\n",
            "Failed to download (trying next):\n",
            "HTTP Error 404: Not Found\n",
            "\n",
            "Downloading https://ossci-datasets.s3.amazonaws.com/mnist/t10k-labels-idx1-ubyte.gz\n",
            "Downloading https://ossci-datasets.s3.amazonaws.com/mnist/t10k-labels-idx1-ubyte.gz to ./data/MNIST/raw/t10k-labels-idx1-ubyte.gz\n"
          ]
        },
        {
          "name": "stderr",
          "output_type": "stream",
          "text": [
            "100%|██████████| 4542/4542 [00:00<00:00, 1440711.55it/s]\n"
          ]
        },
        {
          "name": "stdout",
          "output_type": "stream",
          "text": [
            "Extracting ./data/MNIST/raw/t10k-labels-idx1-ubyte.gz to ./data/MNIST/raw\n",
            "\n"
          ]
        },
        {
          "data": {
            "image/png": "[encoded data removed]",
            "text/plain": [
              "<Figure size 1200x600 with 1 Axes>"
            ]
          },
          "metadata": {},
          "output_type": "display_data"
        }
      ],
      "source": [
        "g = torch.Generator()\n",
        "g.manual_seed(SEED)\n",
        "np.random.seed(SEED)\n",
        "torch.manual_seed(SEED)\n",
        "random.seed(SEED)\n",
        "\n",
        "train_transform = transforms.Compose(\n",
        "    [  # Workaround: stride=1, padding_mode='replicate' is replaced by\n",
        "        transforms.Pad(1, padding_mode=\"edge\"),\n",
        "        transforms.ToTensor(),\n",
        "        transforms.Normalize((MEAN,), (STD,)),\n",
        "    ]\n",
        ")\n",
        "test_transform = transforms.Compose(\n",
        "    [  # Workaround: stride=1, padding_mode='replicate' is replaced by\n",
        "        transforms.Pad(1, padding_mode=\"edge\"),\n",
        "        transforms.ToTensor(),\n",
        "        transforms.Normalize((MEAN,), (STD,)),\n",
        "    ]\n",
        ")\n",
        "\n",
        "train_dataset = datasets.MNIST(download=True, root=\"./data\", train=True, transform=train_transform)\n",
        "\n",
        "test_dataset = datasets.MNIST(download=True, root=\"./data\", train=False, transform=test_transform)\n",
        "\n",
        "train_loader = torch.utils.data.DataLoader(\n",
        "    train_dataset,\n",
        "    batch_size=BATCH_SIZE,\n",
        "    shuffle=True,\n",
        "    drop_last=True,\n",
        "    generator=g,\n",
        ")\n",
        "\n",
        "test_loader = torch.utils.data.DataLoader(\n",
        "    test_dataset,\n",
        "    batch_size=BATCH_SIZE,\n",
        "    shuffle=True,\n",
        "    drop_last=True,\n",
        "    generator=g,\n",
        ")\n",
        "\n",
        "plot_dataset(train_loader)"
      ]
    },
    {
      "cell_type": "markdown",
      "metadata": {
        "id": "F-NW4rtRUNnf"
      },
      "source": [
        "## Model architecture\n",
        "\n",
        "The following cell shows the architecture of the NN-20 model. It contains one convolutional layer and 19 linear ones."
      ]
    },
    {
      "cell_type": "code",
      "execution_count": 8,
      "metadata": {
        "colab": {
          "base_uri": "https://localhost:8080/"
        },
        "id": "ySu0GeDGUNnf",
        "outputId": "ffa83cd8-6280-4681-8582-fa8aa0b4d48e"
      },
      "outputs": [
        {
          "name": "stdout",
          "output_type": "stream",
          "text": [
            "Fp32MNIST(\n",
            "  (features_maps): Sequential(\n",
            "    (0): Conv2d(1, 1, kernel_size=(3, 3), stride=(1, 1))\n",
            "    (1): ReLU()\n",
            "    (2): BatchNorm2d(1, eps=1e-05, momentum=0.1, affine=True, track_running_stats=True)\n",
            "  )\n",
            "  (linears): Sequential(\n",
            "    (0): Linear(in_features=784, out_features=92, bias=True)\n",
            "    (1): ReLU()\n",
            "    (2): BatchNorm1d(92, eps=1e-05, momentum=0.1, affine=True, track_running_stats=True)\n",
            "    (3): Linear(in_features=92, out_features=92, bias=True)\n",
            "    (4): ReLU()\n",
            "    (5): BatchNorm1d(92, eps=1e-05, momentum=0.1, affine=True, track_running_stats=True)\n",
            "    (6): Linear(in_features=92, out_features=92, bias=True)\n",
            "    (7): ReLU()\n",
            "    (8): BatchNorm1d(92, eps=1e-05, momentum=0.1, affine=True, track_running_stats=True)\n",
            "    (9): Linear(in_features=92, out_features=92, bias=True)\n",
            "    (10): ReLU()\n",
            "    (11): BatchNorm1d(92, eps=1e-05, momentum=0.1, affine=True, track_running_stats=True)\n",
            "    (12): Linear(in_features=92, out_features=92, bias=True)\n",
            "    (13): ReLU()\n",
            "    (14): BatchNorm1d(92, eps=1e-05, momentum=0.1, affine=True, track_running_stats=True)\n",
            "    (15): Linear(in_features=92, out_features=92, bias=True)\n",
            "    (16): ReLU()\n",
            "    (17): BatchNorm1d(92, eps=1e-05, momentum=0.1, affine=True, track_running_stats=True)\n",
            "    (18): Linear(in_features=92, out_features=92, bias=True)\n",
            "    (19): ReLU()\n",
            "    (20): BatchNorm1d(92, eps=1e-05, momentum=0.1, affine=True, track_running_stats=True)\n",
            "    (21): Linear(in_features=92, out_features=92, bias=True)\n",
            "    (22): ReLU()\n",
            "    (23): BatchNorm1d(92, eps=1e-05, momentum=0.1, affine=True, track_running_stats=True)\n",
            "    (24): Linear(in_features=92, out_features=92, bias=True)\n",
            "    (25): ReLU()\n",
            "    (26): BatchNorm1d(92, eps=1e-05, momentum=0.1, affine=True, track_running_stats=True)\n",
            "    (27): Linear(in_features=92, out_features=92, bias=True)\n",
            "    (28): ReLU()\n",
            "    (29): BatchNorm1d(92, eps=1e-05, momentum=0.1, affine=True, track_running_stats=True)\n",
            "    (30): Linear(in_features=92, out_features=92, bias=True)\n",
            "    (31): ReLU()\n",
            "    (32): BatchNorm1d(92, eps=1e-05, momentum=0.1, affine=True, track_running_stats=True)\n",
            "    (33): Linear(in_features=92, out_features=92, bias=True)\n",
            "    (34): ReLU()\n",
            "    (35): BatchNorm1d(92, eps=1e-05, momentum=0.1, affine=True, track_running_stats=True)\n",
            "    (36): Linear(in_features=92, out_features=92, bias=True)\n",
            "    (37): ReLU()\n",
            "    (38): BatchNorm1d(92, eps=1e-05, momentum=0.1, affine=True, track_running_stats=True)\n",
            "    (39): Linear(in_features=92, out_features=92, bias=True)\n",
            "    (40): ReLU()\n",
            "    (41): BatchNorm1d(92, eps=1e-05, momentum=0.1, affine=True, track_running_stats=True)\n",
            "    (42): Linear(in_features=92, out_features=92, bias=True)\n",
            "    (43): ReLU()\n",
            "    (44): BatchNorm1d(92, eps=1e-05, momentum=0.1, affine=True, track_running_stats=True)\n",
            "    (45): Linear(in_features=92, out_features=92, bias=True)\n",
            "    (46): ReLU()\n",
            "    (47): BatchNorm1d(92, eps=1e-05, momentum=0.1, affine=True, track_running_stats=True)\n",
            "    (48): Linear(in_features=92, out_features=92, bias=True)\n",
            "    (49): ReLU()\n",
            "    (50): BatchNorm1d(92, eps=1e-05, momentum=0.1, affine=True, track_running_stats=True)\n",
            "    (51): Linear(in_features=92, out_features=92, bias=True)\n",
            "    (52): ReLU()\n",
            "    (53): BatchNorm1d(92, eps=1e-05, momentum=0.1, affine=True, track_running_stats=True)\n",
            "    (54): Linear(in_features=92, out_features=10, bias=True)\n",
            "  )\n",
            ")\n"
          ]
        }
      ],
      "source": [
        "fp32_mnist = Fp32MNIST(nb_layers=20).to(DEVICE)\n",
        "print(fp32_mnist)"
      ]
    },
    {
      "cell_type": "markdown",
      "metadata": {
        "id": "It5z4iJQUNng"
      },
      "source": [
        "## Benchmark the models\n",
        "\n",
        "In the next sections of this notebook, we apply the same experimental protocol to both NN-20 and NN-50 models.\n",
        "\n",
        "To make a custom neural network FHE-compatible, it's necessary to quantize both the network and its inputs. Post-Training Quantization (PTQ) involves quantizes a pre-trained floating-point model directly, and does not require re-training. In Concrete ML, the compilation of the custom NNs is performed through `compile_torch_model` function\n"
      ]
    },
    {
      "cell_type": "markdown",
      "metadata": {
        "id": "FNcYhuevUNng"
      },
      "source": [
        "In the compilation step, the compiler requires a representative set of data,  named `data_calibration` below, to evaluate the maximum integer bit-width within the graph."
      ]
    },
    {
      "cell_type": "code",
      "execution_count": 9,
      "metadata": {
        "colab": {
          "base_uri": "https://localhost:8080/"
        },
        "id": "HqGzs7LnUNng",
        "outputId": "feef995d-0239-41f6-ff53-d25063e36590"
      },
      "outputs": [
        {
          "name": "stdout",
          "output_type": "stream",
          "text": [
            "============= Diagnostic Run torch.onnx.export version 2.0.1+cu117 =============\n",
            "verbose: False, log level: Level.ERROR\n",
            "======================= 0 NONE 0 NOTE 0 WARNING 0 ERROR ========================\n",
            "\n",
            "Running NN-20 on a 2-core machine machine:Accuracy in fp32 : 98.067% for the test set\n",
            "Accuracy with FHE-simulation mode : 94.431% for the test set\n",
            "FHE Latency on encrypted data : 116.591s per encrypted sample.\n",
            "Number of PBS: 2440\n",
            "============= Diagnostic Run torch.onnx.export version 2.0.1+cu117 =============\n",
            "verbose: False, log level: Level.ERROR\n",
            "======================= 0 NONE 0 NOTE 0 WARNING 0 ERROR ========================\n",
            "\n",
            "Running NN-50 on a 2-core machine machine:Accuracy in fp32 : 97.446% for the test set\n",
            "Accuracy with FHE-simulation mode : 91.456% for the test set\n",
            "FHE Latency on encrypted data : 320.007s per encrypted sample.\n",
            "Number of PBS: 5200\n"
          ]
        }
      ],
      "source": [
        "data_calibration = next(iter(train_loader))[0]\n",
        "\n",
        "results_cml = {}\n",
        "\n",
        "for nb_layers in [20, 50]:\n",
        "\n",
        "    fp32_mnist = Fp32MNIST(nb_layers=nb_layers).to(DEVICE)\n",
        "\n",
        "    checkpoint = torch.load(\n",
        "        f\"./checkpoints/MNIST/MLP_{nb_layers}/fp32/MNIST_fp32_state_dict.pt\", map_location=DEVICE\n",
        "    )\n",
        "    fp32_mnist.load_state_dict(checkpoint)\n",
        "    fp32_mnist.eval()\n",
        "\n",
        "    acc_test = torch_inference(fp32_mnist, test_loader, device=DEVICE)\n",
        "\n",
        "    # The model is compiled through 'compile_torch_model' method\n",
        "    # We use approximate rounding and a p_error value of 0.1\n",
        "    # These values work well for neural networks which are robust to noise\n",
        "    # in the computation of intermediate values.\n",
        "    q_module = compile_torch_model(\n",
        "        fp32_mnist.to(DEVICE),\n",
        "        torch_inputset=data_calibration,\n",
        "        n_bits=6,\n",
        "        rounding_threshold_bits={\"n_bits\": 6, \"method\": \"APPROXIMATE\"},\n",
        "        p_error=0.1,\n",
        "    )\n",
        "\n",
        "    fhe_timing = []\n",
        "    y_predictions = []\n",
        "    fhe_samples = 3\n",
        "\n",
        "    # The model is evaluated through all the test data-set in 'simulation' mode\n",
        "    for i, (data, labels) in enumerate(test_loader):\n",
        "\n",
        "        data, labels = data.detach().cpu().numpy(), labels.detach().cpu().numpy()\n",
        "        simulate_predictions = q_module.forward(data, fhe=\"simulate\")\n",
        "        y_predictions.extend(simulate_predictions.argmax(1) == labels)\n",
        "\n",
        "        # Measure FHE latency on three samples and take the minimum\n",
        "        if i <= fhe_samples:\n",
        "            start_time = time.time()\n",
        "            q_module.forward(data[0, None], fhe=\"execute\")\n",
        "            fhe_timing.append((time.time() - start_time))\n",
        "\n",
        "    results_cml[nb_layers] = [acc_test, np.mean(y_predictions), np.min(fhe_timing)]\n",
        "\n",
        "    print(\n",
        "        f\"Running NN-{nb_layers} on a {MACHINE} machine:\"\n",
        "        f\"Accuracy in fp32 : {results_cml[nb_layers][0]:.3%} for the test set\\n\"\n",
        "        f\"Accuracy with FHE-simulation mode : {results_cml[nb_layers][1]:.3%} for the test set\\n\"\n",
        "        f\"FHE Latency on encrypted data : {results_cml[nb_layers][2]:.3f}s per encrypted sample.\\n\"\n",
        "        f\"Number of PBS: {q_module.fhe_circuit.statistics['programmable_bootstrap_count']}\"\n",
        "    )"
      ]
    },
    {
      "cell_type": "markdown",
      "metadata": {
        "id": "kt50qNAhUNnh"
      },
      "source": [
        "## Conclusion\n",
        "\n",
        "Here is a recap of the results obtained by running this notebook on a `m6i.metal` instance, compared to the results in the whitepaper [1]."
      ]
    },
    {
      "cell_type": "code",
      "execution_count": null,
      "metadata": {
        "colab": {
          "base_uri": "https://localhost:8080/",
          "height": 112
        },
        "id": "F9aWXJflUNnh",
        "outputId": "ef55c332-aecf-4944-ec2f-99ff1b86814d"
      },
      "outputs": [
        {
          "data": {
            "text/html": [
              "<style type=\"text/css\">\n",
              "</style>\n",
              "<table id=\"T_bbe7b\" class=\"dataframe\">\n",
              "  <thead>\n",
              "    <tr>\n",
              "      <th class=\"blank level0\" >&nbsp;</th>\n",
              "      <th id=\"T_bbe7b_level0_col0\" class=\"col_heading level0 col0\" >Num Layers</th>\n",
              "      <th id=\"T_bbe7b_level0_col1\" class=\"col_heading level0 col1\" >Accuracy [1]</th>\n",
              "      <th id=\"T_bbe7b_level0_col2\" class=\"col_heading level0 col2\" >FHE Latency [1]</th>\n",
              "      <th id=\"T_bbe7b_level0_col3\" class=\"col_heading level0 col3\" >Our m6i.metal Accuracy fp32</th>\n",
              "      <th id=\"T_bbe7b_level0_col4\" class=\"col_heading level0 col4\" >Our m6i.metal Accuracy FHE</th>\n",
              "      <th id=\"T_bbe7b_level0_col5\" class=\"col_heading level0 col5\" >Our m6i.metal FHE Latency</th>\n",
              "      <th id=\"T_bbe7b_level0_col6\" class=\"col_heading level0 col6\" >Speedup</th>\n",
              "    </tr>\n",
              "  </thead>\n",
              "  <tbody>\n",
              "    <tr>\n",
              "      <th id=\"T_bbe7b_level0_row0\" class=\"row_heading level0 row0\" >0</th>\n",
              "      <td id=\"T_bbe7b_row0_col0\" class=\"data row0 col0\" >20</td>\n",
              "      <td id=\"T_bbe7b_row0_col1\" class=\"data row0 col1\" >97.1%</td>\n",
              "      <td id=\"T_bbe7b_row0_col2\" class=\"data row0 col2\" >115.52s</td>\n",
              "      <td id=\"T_bbe7b_row0_col3\" class=\"data row0 col3\" >98.1%</td>\n",
              "      <td id=\"T_bbe7b_row0_col4\" class=\"data row0 col4\" >94.4%</td>\n",
              "      <td id=\"T_bbe7b_row0_col5\" class=\"data row0 col5\" >116.59s</td>\n",
              "      <td id=\"T_bbe7b_row0_col6\" class=\"data row0 col6\" >1.0x</td>\n",
              "    </tr>\n",
              "    <tr>\n",
              "      <th id=\"T_bbe7b_level0_row1\" class=\"row_heading level0 row1\" >1</th>\n",
              "      <td id=\"T_bbe7b_row1_col0\" class=\"data row1 col0\" >50</td>\n",
              "      <td id=\"T_bbe7b_row1_col1\" class=\"data row1 col1\" >94.7%</td>\n",
              "      <td id=\"T_bbe7b_row1_col2\" class=\"data row1 col2\" >233.55s</td>\n",
              "      <td id=\"T_bbe7b_row1_col3\" class=\"data row1 col3\" >97.4%</td>\n",
              "      <td id=\"T_bbe7b_row1_col4\" class=\"data row1 col4\" >91.5%</td>\n",
              "      <td id=\"T_bbe7b_row1_col5\" class=\"data row1 col5\" >320.01s</td>\n",
              "      <td id=\"T_bbe7b_row1_col6\" class=\"data row1 col6\" >0.7x</td>\n",
              "    </tr>\n",
              "  </tbody>\n",
              "</table>\n"
            ],
            "text/plain": [
              "<pandas.io.formats.style.Styler at 0x7fa227ad6c10>"
            ]
          },
          "execution_count": 10,
          "metadata": {},
          "output_type": "execute_result"
        }
      ],
      "source": [
        "df, fmt = format_results_df(PAPER_NOTES, results_cml, \"Google Colab Runtime\")\n",
        "df.style.format(fmt)"
      ]
    },
    {
      "cell_type": "markdown",
      "metadata": {
        "id": "CDtxGFpMUNnh"
      },
      "source": [
        "A pre-computed comparison to a `hpc7a.96xlarge` instance with 192 vCPU is also shown when running this notebook on a large server machine."
      ]
    },
    {
      "cell_type": "code",
      "execution_count": null,
      "metadata": {
        "colab": {
          "base_uri": "https://localhost:8080/",
          "height": 112
        },
        "id": "-eDEQ6t7UNnh",
        "outputId": "79c0327a-c0de-4da3-c26a-24f7e93d3577"
      },
      "outputs": [
        {
          "data": {
            "text/html": [
              "<style type=\"text/css\">\n",
              "</style>\n",
              "<table id=\"T_b94a8\" class=\"dataframe\">\n",
              "  <thead>\n",
              "    <tr>\n",
              "      <th class=\"blank level0\" >&nbsp;</th>\n",
              "      <th id=\"T_b94a8_level0_col0\" class=\"col_heading level0 col0\" >Num Layers</th>\n",
              "      <th id=\"T_b94a8_level0_col1\" class=\"col_heading level0 col1\" >Accuracy [1]</th>\n",
              "      <th id=\"T_b94a8_level0_col2\" class=\"col_heading level0 col2\" >FHE Latency [1]</th>\n",
              "      <th id=\"T_b94a8_level0_col3\" class=\"col_heading level0 col3\" >Our hpc7a.96xlarge Accuracy fp32</th>\n",
              "      <th id=\"T_b94a8_level0_col4\" class=\"col_heading level0 col4\" >Our hpc7a.96xlarge Accuracy FHE</th>\n",
              "      <th id=\"T_b94a8_level0_col5\" class=\"col_heading level0 col5\" >Our hpc7a.96xlarge FHE Latency</th>\n",
              "      <th id=\"T_b94a8_level0_col6\" class=\"col_heading level0 col6\" >Speedup</th>\n",
              "    </tr>\n",
              "  </thead>\n",
              "  <tbody>\n",
              "    <tr>\n",
              "      <th id=\"T_b94a8_level0_row0\" class=\"row_heading level0 row0\" >0</th>\n",
              "      <td id=\"T_b94a8_row0_col0\" class=\"data row0 col0\" >20</td>\n",
              "      <td id=\"T_b94a8_row0_col1\" class=\"data row0 col1\" >97.1%</td>\n",
              "      <td id=\"T_b94a8_row0_col2\" class=\"data row0 col2\" >115.52s</td>\n",
              "      <td id=\"T_b94a8_row0_col3\" class=\"data row0 col3\" >98.7%</td>\n",
              "      <td id=\"T_b94a8_row0_col4\" class=\"data row0 col4\" >95.9%</td>\n",
              "      <td id=\"T_b94a8_row0_col5\" class=\"data row0 col5\" >0.99s</td>\n",
              "      <td id=\"T_b94a8_row0_col6\" class=\"data row0 col6\" >116.1x</td>\n",
              "    </tr>\n",
              "    <tr>\n",
              "      <th id=\"T_b94a8_level0_row1\" class=\"row_heading level0 row1\" >1</th>\n",
              "      <td id=\"T_b94a8_row1_col0\" class=\"data row1 col0\" >50</td>\n",
              "      <td id=\"T_b94a8_row1_col1\" class=\"data row1 col1\" >94.7%</td>\n",
              "      <td id=\"T_b94a8_row1_col2\" class=\"data row1 col2\" >233.55s</td>\n",
              "      <td id=\"T_b94a8_row1_col3\" class=\"data row1 col3\" >97.5%</td>\n",
              "      <td id=\"T_b94a8_row1_col4\" class=\"data row1 col4\" >94.8%</td>\n",
              "      <td id=\"T_b94a8_row1_col5\" class=\"data row1 col5\" >3.03s</td>\n",
              "      <td id=\"T_b94a8_row1_col6\" class=\"data row1 col6\" >77.1x</td>\n",
              "    </tr>\n",
              "  </tbody>\n",
              "</table>\n"
            ],
            "text/plain": [
              "<pandas.io.formats.style.Styler at 0x7fa21d4bda50>"
            ]
          },
          "execution_count": 11,
          "metadata": {},
          "output_type": "execute_result"
        }
      ],
      "source": [
        "# This benchmark was done on a hpc7 machine with 192-cores\n",
        "BENCH_HPC7A = {20: [0.987, 0.959, 0.995], 50: [0.9745, 0.9477, 3.03]}\n",
        "\n",
        "df, fmt = format_results_df(PAPER_NOTES, BENCH_HPC7A, \"Our hpc7a.96xlarge\")\n",
        "df.style.format(fmt)"
      ]
    },
    {
      "cell_type": "markdown",
      "metadata": {
        "id": "rAQAcThoUNnh"
      },
      "source": [
        "As shown in the table above, on the `hpc7` instance, Concrete ML achieves a ~20x speed-up compared to the whitepaper."
      ]
    },
    {
      "cell_type": "markdown",
      "metadata": {},
      "source": [
        "\n",
        "\n",
        "This experiment successfully reproduces the results from the whitepaper *“Programmable Bootstrapping Enables Efficient Homomorphic Inference of Deep Neural Networks”*, using the latest version of Concrete-ML.\n",
        "\n",
        "We evaluated both NN-20 and NN-50 architectures on the MNIST dataset in a Google Colab runtime environment. Here’s a summary of the findings:\n",
        "\n",
        "- The floating-point (fp32) accuracy closely matches the paper's reported values.\n",
        "- Using Concrete ML's FHE simulation mode, we achieved comparable accuracies with slight degradation due to quantization, which is expected.\n",
        "- The FHE latency per encrypted sample is significantly improved when compared to the whitepaper’s benchmarks on standard hardware.\n",
        "- Our results also stand competitive when compared with the performance of high-end machines like the AWS `m6i.metal` and `hpc7a.96xlarge`.\n",
        "\n",
        "This demonstrates the improvements in both efficiency and accessibility of FHE-compatible neural networks, even in low-resource environments like Google Colab.\n",
        "\n",
        "The results were presented using clean dataframes, and key model performance metrics were compared across setups for clarity and reproducibility.\n"
      ]
    }
  ],
  "metadata": {
    "colab": {
      "provenance": []
    },
    "execution": {
      "timeout": 10800
    },
    "kernelspec": {
      "display_name": "Python 3",
      "name": "python3"
    },
    "language_info": {
      "name": "python"
    }
  },
  "nbformat": 4,
  "nbformat_minor": 0
}
