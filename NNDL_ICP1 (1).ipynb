{
  "nbformat": 4,
  "nbformat_minor": 0,
  "metadata": {
    "colab": {
      "provenance": []
    },
    "kernelspec": {
      "name": "python3",
      "display_name": "Python 3"
    },
    "language_info": {
      "name": "python"
    }
  },
  "cells": [
    {
      "cell_type": "markdown",
      "source": [
        "1. Write a program that takes two stringsfrom the user: first_name, last_name. Pass these variables to fullname function that should return the (full name)."
      ],
      "metadata": {
        "id": "Q_22U-qV3tPr"
      }
    },
    {
      "cell_type": "code",
      "source": [
        "# function for concatenation of first and last names\n",
        "def fullname(first_name, last_name):\n",
        "    return first_name + \" \" + last_name\n",
        "\n",
        "# Take inputs from the user\n",
        "first_name = input(\"Enter your first name: \")\n",
        "last_name = input(\"Enter your last name: \")\n",
        "\n",
        "# Get the full name by calling the function\n",
        "full_name = fullname(first_name, last_name)\n",
        "\n",
        "# Display the result\n",
        "print(\"Your full name is:\", full_name)\n"
      ],
      "metadata": {
        "colab": {
          "base_uri": "https://localhost:8080/"
        },
        "id": "7VBHnFgp35rU",
        "outputId": "0dbedd80-04b1-4328-9830-f397469c411d"
      },
      "execution_count": 1,
      "outputs": [
        {
          "output_type": "stream",
          "name": "stdout",
          "text": [
            "Enter your first name: Kalyani\n",
            "Enter your last name: Hari\n",
            "Your full name is: Kalyani Hari\n"
          ]
        }
      ]
    },
    {
      "cell_type": "markdown",
      "source": [
        "\n",
        "\n",
        "---\n",
        "\n"
      ],
      "metadata": {
        "id": "6f7t0rAf5ekl"
      }
    },
    {
      "cell_type": "markdown",
      "source": [
        "Write function named “string_alternative” that returns every other char in the full_name string.\n",
        "Str = “Good evening”\n",
        "Output: Go vnn\n",
        "\n",
        "Note: You need to create a function named “string_alternative” for this program and call it from\n",
        "main function.\n"
      ],
      "metadata": {
        "id": "mdgBp-cH4S4y"
      }
    },
    {
      "cell_type": "code",
      "source": [
        "# function to extract alternate characters\n",
        "def string_alternative(input_string):\n",
        "    # Using slicing to pick every second character starting from the first\n",
        "    alternative_chars = input_string[::2]\n",
        "    return alternative_chars\n",
        "\n",
        "# Main function\n",
        "def main():\n",
        "    # Take input from the user\n",
        "    input_string = input(\"Enter a string: \")\n",
        "\n",
        "    # Call the function and store the result\n",
        "    result = string_alternative(input_string)\n",
        "\n",
        "    # Display the output string\n",
        "    print(\"The processed string with alternate characters is:\", result)\n",
        "\n",
        "if __name__ == \"__main__\":\n",
        "    main()\n"
      ],
      "metadata": {
        "colab": {
          "base_uri": "https://localhost:8080/"
        },
        "id": "M8W8BQu35b8b",
        "outputId": "9884dd47-aa48-4484-e7cd-4c23df168a80"
      },
      "execution_count": 2,
      "outputs": [
        {
          "output_type": "stream",
          "name": "stdout",
          "text": [
            "Enter a string: Overland Park\n",
            "The processed string with alternate characters is: Oeln ak\n"
          ]
        }
      ]
    },
    {
      "cell_type": "markdown",
      "source": [
        "\n",
        "\n",
        "---\n",
        "\n"
      ],
      "metadata": {
        "id": "4vrROT0s6PBZ"
      }
    },
    {
      "cell_type": "markdown",
      "source": [
        "Write a python program to find the wordcount in a file (input.txt) for each line and then print the output.\n",
        "Finally store the output in output.txt file."
      ],
      "metadata": {
        "id": "hy2Mx2eMIA3j"
      }
    },
    {
      "cell_type": "code",
      "source": [
        "from collections import Counter\n",
        "from google.colab import files\n",
        "\n",
        "# Upload the input file\n",
        "uploaded = files.upload()\n",
        "\n",
        "# function to process the file\n",
        "def process_file(input_file, output_file):\n",
        "    #Counts word occurrences and writes results to output_file\n",
        "\n",
        "    # Read the input file and process lines\n",
        "    with open(input_file, 'r') as infile:\n",
        "        lines = infile.readlines()\n",
        "\n",
        "    # Count word occurrences\n",
        "    word_counter = Counter(word for line in lines for word in line.split())\n",
        "\n",
        "    # Write unique lines and word counts to the output file\n",
        "    with open(output_file, 'w') as outfile:\n",
        "        outfile.write(\"Lines in File:\\n\")\n",
        "        outfile.writelines(lines)\n",
        "        outfile.write(\"\\nWord_Count:\\n\")\n",
        "        for word, count in word_counter.items():\n",
        "            outfile.write(f\"{word}: {count}\\n\")\n",
        "\n",
        "    print(f\"\\nWord counts have been saved to {output_file}.\")\n",
        "\n",
        "# Main function\n",
        "def main():\n",
        "    input_file = \"input.txt\"   # Name of the input file\n",
        "    output_file = \"output.txt\" # Name of the output file\n",
        "\n",
        "    # Process the input file and save the output\n",
        "    process_file(input_file, output_file)\n",
        "\n",
        "    # Allow downloading the output file\n",
        "    files.download(output_file)\n",
        "\n",
        "if __name__ == \"__main__\":\n",
        "    main()\n",
        "\n"
      ],
      "metadata": {
        "colab": {
          "base_uri": "https://localhost:8080/",
          "height": 108
        },
        "id": "C9rk3tDyFTqE",
        "outputId": "7c976013-60cc-444a-8c76-78b31d57036b"
      },
      "execution_count": 9,
      "outputs": [
        {
          "output_type": "display_data",
          "data": {
            "text/plain": [
              "<IPython.core.display.HTML object>"
            ],
            "text/html": [
              "\n",
              "     <input type=\"file\" id=\"files-2aa428ab-02cf-4eb9-9787-0b64cae04ec1\" name=\"files[]\" multiple disabled\n",
              "        style=\"border:none\" />\n",
              "     <output id=\"result-2aa428ab-02cf-4eb9-9787-0b64cae04ec1\">\n",
              "      Upload widget is only available when the cell has been executed in the\n",
              "      current browser session. Please rerun this cell to enable.\n",
              "      </output>\n",
              "      <script>// Copyright 2017 Google LLC\n",
              "//\n",
              "// Licensed under the Apache License, Version 2.0 (the \"License\");\n",
              "// you may not use this file except in compliance with the License.\n",
              "// You may obtain a copy of the License at\n",
              "//\n",
              "//      http://www.apache.org/licenses/LICENSE-2.0\n",
              "//\n",
              "// Unless required by applicable law or agreed to in writing, software\n",
              "// distributed under the License is distributed on an \"AS IS\" BASIS,\n",
              "// WITHOUT WARRANTIES OR CONDITIONS OF ANY KIND, either express or implied.\n",
              "// See the License for the specific language governing permissions and\n",
              "// limitations under the License.\n",
              "\n",
              "/**\n",
              " * @fileoverview Helpers for google.colab Python module.\n",
              " */\n",
              "(function(scope) {\n",
              "function span(text, styleAttributes = {}) {\n",
              "  const element = document.createElement('span');\n",
              "  element.textContent = text;\n",
              "  for (const key of Object.keys(styleAttributes)) {\n",
              "    element.style[key] = styleAttributes[key];\n",
              "  }\n",
              "  return element;\n",
              "}\n",
              "\n",
              "// Max number of bytes which will be uploaded at a time.\n",
              "const MAX_PAYLOAD_SIZE = 100 * 1024;\n",
              "\n",
              "function _uploadFiles(inputId, outputId) {\n",
              "  const steps = uploadFilesStep(inputId, outputId);\n",
              "  const outputElement = document.getElementById(outputId);\n",
              "  // Cache steps on the outputElement to make it available for the next call\n",
              "  // to uploadFilesContinue from Python.\n",
              "  outputElement.steps = steps;\n",
              "\n",
              "  return _uploadFilesContinue(outputId);\n",
              "}\n",
              "\n",
              "// This is roughly an async generator (not supported in the browser yet),\n",
              "// where there are multiple asynchronous steps and the Python side is going\n",
              "// to poll for completion of each step.\n",
              "// This uses a Promise to block the python side on completion of each step,\n",
              "// then passes the result of the previous step as the input to the next step.\n",
              "function _uploadFilesContinue(outputId) {\n",
              "  const outputElement = document.getElementById(outputId);\n",
              "  const steps = outputElement.steps;\n",
              "\n",
              "  const next = steps.next(outputElement.lastPromiseValue);\n",
              "  return Promise.resolve(next.value.promise).then((value) => {\n",
              "    // Cache the last promise value to make it available to the next\n",
              "    // step of the generator.\n",
              "    outputElement.lastPromiseValue = value;\n",
              "    return next.value.response;\n",
              "  });\n",
              "}\n",
              "\n",
              "/**\n",
              " * Generator function which is called between each async step of the upload\n",
              " * process.\n",
              " * @param {string} inputId Element ID of the input file picker element.\n",
              " * @param {string} outputId Element ID of the output display.\n",
              " * @return {!Iterable<!Object>} Iterable of next steps.\n",
              " */\n",
              "function* uploadFilesStep(inputId, outputId) {\n",
              "  const inputElement = document.getElementById(inputId);\n",
              "  inputElement.disabled = false;\n",
              "\n",
              "  const outputElement = document.getElementById(outputId);\n",
              "  outputElement.innerHTML = '';\n",
              "\n",
              "  const pickedPromise = new Promise((resolve) => {\n",
              "    inputElement.addEventListener('change', (e) => {\n",
              "      resolve(e.target.files);\n",
              "    });\n",
              "  });\n",
              "\n",
              "  const cancel = document.createElement('button');\n",
              "  inputElement.parentElement.appendChild(cancel);\n",
              "  cancel.textContent = 'Cancel upload';\n",
              "  const cancelPromise = new Promise((resolve) => {\n",
              "    cancel.onclick = () => {\n",
              "      resolve(null);\n",
              "    };\n",
              "  });\n",
              "\n",
              "  // Wait for the user to pick the files.\n",
              "  const files = yield {\n",
              "    promise: Promise.race([pickedPromise, cancelPromise]),\n",
              "    response: {\n",
              "      action: 'starting',\n",
              "    }\n",
              "  };\n",
              "\n",
              "  cancel.remove();\n",
              "\n",
              "  // Disable the input element since further picks are not allowed.\n",
              "  inputElement.disabled = true;\n",
              "\n",
              "  if (!files) {\n",
              "    return {\n",
              "      response: {\n",
              "        action: 'complete',\n",
              "      }\n",
              "    };\n",
              "  }\n",
              "\n",
              "  for (const file of files) {\n",
              "    const li = document.createElement('li');\n",
              "    li.append(span(file.name, {fontWeight: 'bold'}));\n",
              "    li.append(span(\n",
              "        `(${file.type || 'n/a'}) - ${file.size} bytes, ` +\n",
              "        `last modified: ${\n",
              "            file.lastModifiedDate ? file.lastModifiedDate.toLocaleDateString() :\n",
              "                                    'n/a'} - `));\n",
              "    const percent = span('0% done');\n",
              "    li.appendChild(percent);\n",
              "\n",
              "    outputElement.appendChild(li);\n",
              "\n",
              "    const fileDataPromise = new Promise((resolve) => {\n",
              "      const reader = new FileReader();\n",
              "      reader.onload = (e) => {\n",
              "        resolve(e.target.result);\n",
              "      };\n",
              "      reader.readAsArrayBuffer(file);\n",
              "    });\n",
              "    // Wait for the data to be ready.\n",
              "    let fileData = yield {\n",
              "      promise: fileDataPromise,\n",
              "      response: {\n",
              "        action: 'continue',\n",
              "      }\n",
              "    };\n",
              "\n",
              "    // Use a chunked sending to avoid message size limits. See b/62115660.\n",
              "    let position = 0;\n",
              "    do {\n",
              "      const length = Math.min(fileData.byteLength - position, MAX_PAYLOAD_SIZE);\n",
              "      const chunk = new Uint8Array(fileData, position, length);\n",
              "      position += length;\n",
              "\n",
              "      const base64 = btoa(String.fromCharCode.apply(null, chunk));\n",
              "      yield {\n",
              "        response: {\n",
              "          action: 'append',\n",
              "          file: file.name,\n",
              "          data: base64,\n",
              "        },\n",
              "      };\n",
              "\n",
              "      let percentDone = fileData.byteLength === 0 ?\n",
              "          100 :\n",
              "          Math.round((position / fileData.byteLength) * 100);\n",
              "      percent.textContent = `${percentDone}% done`;\n",
              "\n",
              "    } while (position < fileData.byteLength);\n",
              "  }\n",
              "\n",
              "  // All done.\n",
              "  yield {\n",
              "    response: {\n",
              "      action: 'complete',\n",
              "    }\n",
              "  };\n",
              "}\n",
              "\n",
              "scope.google = scope.google || {};\n",
              "scope.google.colab = scope.google.colab || {};\n",
              "scope.google.colab._files = {\n",
              "  _uploadFiles,\n",
              "  _uploadFilesContinue,\n",
              "};\n",
              "})(self);\n",
              "</script> "
            ]
          },
          "metadata": {}
        },
        {
          "output_type": "stream",
          "name": "stdout",
          "text": [
            "Saving input.txt to input (1).txt\n",
            "\n",
            "Word counts have been saved to output.txt.\n"
          ]
        },
        {
          "output_type": "display_data",
          "data": {
            "text/plain": [
              "<IPython.core.display.Javascript object>"
            ],
            "application/javascript": [
              "\n",
              "    async function download(id, filename, size) {\n",
              "      if (!google.colab.kernel.accessAllowed) {\n",
              "        return;\n",
              "      }\n",
              "      const div = document.createElement('div');\n",
              "      const label = document.createElement('label');\n",
              "      label.textContent = `Downloading \"${filename}\": `;\n",
              "      div.appendChild(label);\n",
              "      const progress = document.createElement('progress');\n",
              "      progress.max = size;\n",
              "      div.appendChild(progress);\n",
              "      document.body.appendChild(div);\n",
              "\n",
              "      const buffers = [];\n",
              "      let downloaded = 0;\n",
              "\n",
              "      const channel = await google.colab.kernel.comms.open(id);\n",
              "      // Send a message to notify the kernel that we're ready.\n",
              "      channel.send({})\n",
              "\n",
              "      for await (const message of channel.messages) {\n",
              "        // Send a message to notify the kernel that we're ready.\n",
              "        channel.send({})\n",
              "        if (message.buffers) {\n",
              "          for (const buffer of message.buffers) {\n",
              "            buffers.push(buffer);\n",
              "            downloaded += buffer.byteLength;\n",
              "            progress.value = downloaded;\n",
              "          }\n",
              "        }\n",
              "      }\n",
              "      const blob = new Blob(buffers, {type: 'application/binary'});\n",
              "      const a = document.createElement('a');\n",
              "      a.href = window.URL.createObjectURL(blob);\n",
              "      a.download = filename;\n",
              "      div.appendChild(a);\n",
              "      a.click();\n",
              "      div.remove();\n",
              "    }\n",
              "  "
            ]
          },
          "metadata": {}
        },
        {
          "output_type": "display_data",
          "data": {
            "text/plain": [
              "<IPython.core.display.Javascript object>"
            ],
            "application/javascript": [
              "download(\"download_4eb14adf-e7f2-4e8d-b27f-9bbd9b09cf4c\", \"output.txt\", 431)"
            ]
          },
          "metadata": {}
        }
      ]
    },
    {
      "cell_type": "markdown",
      "source": [],
      "metadata": {
        "id": "j4H5NSanPJNR"
      }
    },
    {
      "cell_type": "markdown",
      "source": [
        "\n",
        "\n",
        "---\n",
        "\n"
      ],
      "metadata": {
        "id": "va5lU58JKE5Z"
      }
    },
    {
      "cell_type": "markdown",
      "source": [
        "3. Write a program, which reads heights (inches.) of customers into a list and convert these\n",
        "heights to centimeters in a separate list using:\n",
        "\n",
        "1) Nested Interactive loop.\n",
        "\n",
        "2) List comprehensions"
      ],
      "metadata": {
        "id": "iZbjvKR1IS6M"
      }
    },
    {
      "cell_type": "code",
      "source": [
        "# Function to convert inches to centimeters using nested loop\n",
        "def convert_heights_nested_loop(heights_in_inches):\n",
        "    heights_in_cm = []\n",
        "    for height in heights_in_inches:  # Outer loop iterates through the heights\n",
        "        heights_in_cm.append(round(height * 2.54, 2))  # Convert and round to 2 decimal places\n",
        "    return heights_in_cm\n",
        "\n",
        "# Take user input heights in inches\n",
        "heights_in_inches = list(map(float, input(\"Enter heights in inches, separated by spaces: \").split()))\n",
        "print(\"Heights in inches:\", heights_in_inches)\n",
        "\n",
        "# Convert and display heights in centimeters\n",
        "heights_in_cm = convert_heights_nested_loop(heights_in_inches)\n",
        "print(\"Heights in centimeters:\", heights_in_cm)\n"
      ],
      "metadata": {
        "colab": {
          "base_uri": "https://localhost:8080/"
        },
        "id": "CVGPMDAAJYv9",
        "outputId": "f7acec14-c16f-4fbe-b97d-f9e68756f959"
      },
      "execution_count": 10,
      "outputs": [
        {
          "output_type": "stream",
          "name": "stdout",
          "text": [
            "Enter heights in inches, separated by spaces: 12 34 22 175\n",
            "Heights in inches: [12.0, 34.0, 22.0, 175.0]\n",
            "Heights in centimeters: [30.48, 86.36, 55.88, 444.5]\n"
          ]
        }
      ]
    },
    {
      "cell_type": "code",
      "source": [
        "#Using List Comprehension\n",
        "\n",
        "# Take input heights in inches from the user\n",
        "heights_in_inches = list(map(float, input(\"Enter heights in inches, separated by spaces: \").split()))\n",
        "print(\"Heights in inches:\", heights_in_inches)\n",
        "\n",
        "# Convert heights to centimeters using list comprehension\n",
        "heights_in_cm = [round(height * 2.54, 2) for height in heights_in_inches]\n",
        "print(\"Heights in centimeters:\", heights_in_cm)\n"
      ],
      "metadata": {
        "colab": {
          "base_uri": "https://localhost:8080/"
        },
        "id": "lkWVKiFiJmGn",
        "outputId": "a599bf07-a258-4b02-af36-78a391045116"
      },
      "execution_count": 11,
      "outputs": [
        {
          "output_type": "stream",
          "name": "stdout",
          "text": [
            "Enter heights in inches, separated by spaces: 34 65 89 23\n",
            "Heights in inches: [34.0, 65.0, 89.0, 23.0]\n",
            "Heights in centimeters: [86.36, 165.1, 226.06, 58.42]\n"
          ]
        }
      ]
    },
    {
      "cell_type": "markdown",
      "source": [
        "Please find the video of the explaination in this link - https://www.canva.com/design/DAGcVWpFF5w/-4rY6bTTjVEnpmyAp27FuQ/watch?utm_content=DAGcVWpFF5w&utm_campaign=designshare&utm_medium=link2&utm_source=uniquelinks&utlId=h267b39e65e"
      ],
      "metadata": {
        "id": "iG054Y1qme8g"
      }
    }
  ]
}